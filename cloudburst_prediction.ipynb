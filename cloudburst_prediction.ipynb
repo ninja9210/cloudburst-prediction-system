{
 "cells": [
  {
   "cell_type": "code",
   "execution_count": null,
   "metadata": {},
   "outputs": [
    {
     "name": "stdout",
     "output_type": "stream",
     "text": [
      "✅ Data Cleaning Complete! \n",
      "- Today’s data saved as 'today_data.csv' \n",
      "- Tomorrow’s data saved as 'tomorrow_data.csv'\n"
     ]
    }
   ],
   "source": [
    "import pandas as pd\n",
    "\n",
    "# Load dataset\n",
    "file_path = \"cloudburst_data.csv\"  # Tumhare original dataset ka path\n",
    "df = pd.read_csv(file_path)\n",
    "\n",
    "# Select required columns\n",
    "required_columns = [\n",
    "    \"Rainfall\", \"Humidity9am\", \"Humidity3pm\", \"Pressure9am\", \"Pressure3pm\",\n",
    "    \"Cloud9am\", \"Cloud3pm\", \"WindGustSpeed\", \"Temperature9am\", \"Temperature3pm\",\n",
    "    \"WindDirection\", \"CloudBurstToday\", \"CloudBurstTomorrow\"\n",
    "]\n",
    "\n",
    "# Check if all required columns exist in dataset\n",
    "df = df[[col for col in required_columns if col in df.columns]]\n",
    "\n",
    "# Convert 'Yes' and 'No' to 1 and 0 in CloudBurstToday & CloudBurstTomorrow\n",
    "if \"CloudBurstToday\" in df.columns:\n",
    "    df[\"CloudBurstToday\"] = df[\"CloudBurstToday\"].map({\"Yes\": True, \"No\": False})\n",
    "\n",
    "if \"CloudBurstTomorrow\" in df.columns:\n",
    "    df[\"CloudBurstTomorrow\"] = df[\"CloudBurstTomorrow\"].map({\"Yes\": 1, \"No\": 0})\n",
    "\n",
    "# Remove missing values (NaN)\n",
    "df_cleaned = df.dropna()\n",
    "\n",
    "# Remove duplicate rows\n",
    "df_cleaned = df_cleaned.drop_duplicates()\n",
    "\n",
    "# Handle Outliers using IQR (Interquartile Range Method)\n",
    "# Q1 = df_cleaned.quantile(0.25)\n",
    "# Q3 = df_cleaned.quantile(0.75)\n",
    "# IQR = Q3 - Q1\n",
    "\n",
    "# # Defining the valid range\n",
    "# lower_bound = Q1 - 1.5 * IQR\n",
    "# upper_bound = Q3 + 1.5 * IQR\n",
    "\n",
    "# Removing outliers (except categorical column 'WindDirection')\n",
    "# numerical_cols = [col for col in df_cleaned.columns if df_cleaned[col].dtype != 'object']\n",
    "# df_cleaned = df_cleaned[~((df_cleaned[numerical_cols] < lower_bound) | \n",
    "#                            (df_cleaned[numerical_cols] > upper_bound)).any(axis=1)]\n",
    "\n",
    "# Separate data for today's and tomorrow's prediction\n",
    "today_data = df_cleaned.drop(columns=[\"CloudBurstTomorrow\"])  # Sirf aaj ka prediction\n",
    "tomorrow_data = df_cleaned.drop(columns=[\"CloudBurstToday\"])  # Sirf kal ka prediction\n",
    "\n",
    "# Save both datasets separately\n",
    "today_data.to_csv(\"today_data.csv\", index=False)\n",
    "tomorrow_data.to_csv(\"tomorrow_data.csv\", index=False)\n",
    "\n",
    "print(\"✅ Data Cleaning Complete! \\n- Today’s data saved as 'today_data.csv' \\n- Tomorrow’s data saved as 'tomorrow_data.csv'\")\n"
   ]
  },
  {
   "cell_type": "code",
   "execution_count": 16,
   "metadata": {},
   "outputs": [
    {
     "name": "stdout",
     "output_type": "stream",
     "text": [
      "\n",
      "✅ Models trained & saved successfully!\n"
     ]
    }
   ],
   "source": [
    "import pandas as pd\n",
    "import joblib\n",
    "from sklearn.model_selection import train_test_split\n",
    "from sklearn.tree import DecisionTreeClassifier\n",
    "from sklearn.metrics import accuracy_score, classification_report, confusion_matrix\n",
    "\n",
    "# Load datasets\n",
    "df_today = pd.read_csv(\"today_data.csv\")\n",
    "df_tomorrow = pd.read_csv(\"tomorrow_data.csv\")\n",
    "\n",
    "# Remove WindDirection if it exists\n",
    "if \"WindDirection\" in df_today.columns:\n",
    "    df_today.drop(columns=[\"WindDirection\"], inplace=True)\n",
    "\n",
    "if \"WindDirection\" in df_tomorrow.columns:\n",
    "    df_tomorrow.drop(columns=[\"WindDirection\"], inplace=True)\n",
    "\n",
    "# Preprocess function\n",
    "def preprocess_data(df, target_col):\n",
    "    X = df.drop(columns=[target_col])  # Features\n",
    "    y = df[target_col]  # Target\n",
    "    X_train, X_test, y_train, y_test = train_test_split(X, y, test_size=0.2, random_state=42)\n",
    "    return X_train, X_test, y_train, y_test\n",
    "\n",
    "# Process data\n",
    "X_train_today, X_test_today, y_train_today, y_test_today = preprocess_data(df_today, \"CloudBurstToday\")\n",
    "X_train_tomorrow, X_test_tomorrow, y_train_tomorrow, y_test_tomorrow = preprocess_data(df_tomorrow, \"CloudBurstTomorrow\")\n",
    "\n",
    "# Train models\n",
    "model_today = DecisionTreeClassifier(random_state=42)\n",
    "model_today.fit(X_train_today, y_train_today)\n",
    "\n",
    "model_tomorrow = DecisionTreeClassifier(random_state=42)\n",
    "model_tomorrow.fit(X_train_tomorrow, y_train_tomorrow)\n",
    "\n",
    "# Save trained models\n",
    "joblib.dump(model_today, \"cloudburst_today_model.pkl\")\n",
    "joblib.dump(model_tomorrow, \"cloudburst_tomorrow_model.pkl\")\n",
    "\n",
    "# Save feature names\n",
    "joblib.dump(X_train_today.columns.tolist(), \"feature_names_today.pkl\")\n",
    "joblib.dump(X_train_tomorrow.columns.tolist(), \"feature_names_tomorrow.pkl\")\n",
    "\n",
    "print(\"\\n✅ Models trained & saved successfully!\")\n"
   ]
  }
 ],
 "metadata": {
  "kernelspec": {
   "display_name": "Python 3",
   "language": "python",
   "name": "python3"
  },
  "language_info": {
   "codemirror_mode": {
    "name": "ipython",
    "version": 3
   },
   "file_extension": ".py",
   "mimetype": "text/x-python",
   "name": "python",
   "nbconvert_exporter": "python",
   "pygments_lexer": "ipython3",
   "version": "3.11.4"
  }
 },
 "nbformat": 4,
 "nbformat_minor": 2
}
